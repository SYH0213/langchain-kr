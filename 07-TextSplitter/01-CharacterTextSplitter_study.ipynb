{
 "cells": [
  {
   "cell_type": "markdown",
   "id": "649d7949",
   "metadata": {},
   "source": [
    "### CharacterTextSplitter\n",
    "1. CharacterTextSplitter의 특성을 정의하고, CharacterTextSplitter객체를 생성\n",
    "2. create_documents() 함수로 문서와 연결+나누기(Documents로 변환해서 나누기)\n",
    "3. split_text() 함수를 사용해서 문서를 나눈다.(일반 텍스트를 나누기)"
   ]
  },
  {
   "cell_type": "code",
   "execution_count": 3,
   "id": "f603e4d8",
   "metadata": {},
   "outputs": [],
   "source": [
    "# 0. txt파일 읽어오기\n",
    "with open(\"./data/appendix-keywords.txt\", encoding=\"utf-8\") as f:\n",
    "    file = f.read() # 파일의 내용을 읽어서 file 변수에 저장."
   ]
  },
  {
   "cell_type": "code",
   "execution_count": 8,
   "id": "04a06b81",
   "metadata": {},
   "outputs": [],
   "source": [
    "# 1. CharacterTextSplitter 특성을 정의하고, CharacterTextSplitter객체를 생성\n",
    "from langchain_text_splitters import CharacterTextSplitter\n",
    "\n",
    "text_splitter = CharacterTextSplitter(\n",
    "    separator=\"\\n\\n\",       # 문장을 나누는 구분자\n",
    "    chunk_size = 250,      # 각 청크의 최대 길이 설정\n",
    "    chunk_overlap = 0,      # 청크 간의 겹치는 부분 설정\n",
    "    length_function = len   # 길이를 계산하는 함수 설정\n",
    ")"
   ]
  },
  {
   "cell_type": "code",
   "execution_count": null,
   "id": "1ac00515",
   "metadata": {},
   "outputs": [],
   "source": [
    "# 2. create_documents() 함수로 문서와 연결\n",
    "# file은 일반 문서이므로, document로 변경\n",
    "texts = text_splitter.create_documents([file])"
   ]
  },
  {
   "cell_type": "code",
   "execution_count": 13,
   "id": "3a776ac4",
   "metadata": {},
   "outputs": [
    {
     "data": {
      "text/plain": [
       "Document(metadata={}, page_content='Semantic Search\\n\\n정의: 의미론적 검색은 사용자의 질의를 단순한 키워드 매칭을 넘어서 그 의미를 파악하여 관련된 결과를 반환하는 검색 방식입니다.\\n예시: 사용자가 \"태양계 행성\"이라고 검색하면, \"목성\", \"화성\" 등과 같이 관련된 행성에 대한 정보를 반환합니다.\\n연관키워드: 자연어 처리, 검색 알고리즘, 데이터 마이닝\\n\\nEmbedding')"
      ]
     },
     "execution_count": 13,
     "metadata": {},
     "output_type": "execute_result"
    }
   ],
   "source": [
    "texts[0]"
   ]
  },
  {
   "cell_type": "code",
   "execution_count": 14,
   "id": "1028eaeb",
   "metadata": {},
   "outputs": [
    {
     "name": "stdout",
     "output_type": "stream",
     "text": [
      "Semantic Search\n",
      "\n",
      "정의: 의미론적 검색은 사용자의 질의를 단순한 키워드 매칭을 넘어서 그 의미를 파악하여 관련된 결과를 반환하는 검색 방식입니다.\n",
      "예시: 사용자가 \"태양계 행성\"이라고 검색하면, \"목성\", \"화성\" 등과 같이 관련된 행성에 대한 정보를 반환합니다.\n",
      "연관키워드: 자연어 처리, 검색 알고리즘, 데이터 마이닝\n",
      "\n",
      "Embedding\n"
     ]
    }
   ],
   "source": [
    "print(texts[0].page_content)"
   ]
  },
  {
   "cell_type": "code",
   "execution_count": 16,
   "id": "100d80a6",
   "metadata": {},
   "outputs": [
    {
     "data": {
      "text/plain": [
       "'Semantic Search\\n\\n정의: 의미론적 검색은 사용자의 질의를 단순한 키워드 매칭을 넘어서 그 의미를 파악하여 관련된 결과를 반환하는 검색 방식입니다.\\n예시: 사용자가 \"태양계 행성\"이라고 검색하면, \"목성\", \"화성\" 등과 같이 관련된 행성에 대한 정보를 반환합니다.\\n연관키워드: 자연어 처리, 검색 알고리즘, 데이터 마이닝\\n\\nEmbedding'"
      ]
     },
     "execution_count": 16,
     "metadata": {},
     "output_type": "execute_result"
    }
   ],
   "source": [
    "# 3. split_text() 함수를 사용해서 문서를 나눈다.\n",
    "# txt파일을 읽었을때, create_documents()함수를 사용하지 않고, \n",
    "# split_text()함수를 사용해서 문서를 나눌 수 있다.\n",
    "\n",
    "text_splitter.split_text(file)[0]\n"
   ]
  },
  {
   "cell_type": "code",
   "execution_count": 17,
   "id": "6ef4f2a6",
   "metadata": {},
   "outputs": [],
   "source": [
    "myText = text_splitter.split_text(file)"
   ]
  },
  {
   "cell_type": "code",
   "execution_count": 21,
   "id": "00ca7fc7",
   "metadata": {},
   "outputs": [
    {
     "name": "stdout",
     "output_type": "stream",
     "text": [
      "정의: 임베딩은 단어나 문장 같은 텍스트 데이터를 저차원의 연속적인 벡터로 변환하는 과정입니다. 이를 통해 컴퓨터가 텍스트를 이해하고 처리할 수 있게 합니다.\n",
      "예시: \"사과\"라는 단어를 [0.65, -0.23, 0.17]과 같은 벡터로 표현합니다.\n",
      "연관키워드: 자연어 처리, 벡터화, 딥러닝\n",
      "\n",
      "Token\n"
     ]
    }
   ],
   "source": [
    "print(myText[1])"
   ]
  },
  {
   "cell_type": "code",
   "execution_count": null,
   "id": "4581c28b",
   "metadata": {},
   "outputs": [],
   "source": []
  }
 ],
 "metadata": {
  "kernelspec": {
   "display_name": "langchain-kr-Us6BDj1P-py3.11",
   "language": "python",
   "name": "python3"
  },
  "language_info": {
   "codemirror_mode": {
    "name": "ipython",
    "version": 3
   },
   "file_extension": ".py",
   "mimetype": "text/x-python",
   "name": "python",
   "nbconvert_exporter": "python",
   "pygments_lexer": "ipython3",
   "version": "3.11.9"
  }
 },
 "nbformat": 4,
 "nbformat_minor": 5
}
