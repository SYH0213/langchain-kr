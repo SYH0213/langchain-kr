{
 "cells": [
  {
   "cell_type": "markdown",
   "id": "cc0d17f8",
   "metadata": {},
   "source": [
    "# PandasDataFrameOutputParser\n",
    "\n",
    "**Pandas DataFrame**은 Python 프로그래밍 언어에서 널리 사용되는 데이터 구조로, 데이터 조작 및 분석을 위한 강력한 도구입니다. DataFrame은 구조화된 데이터를 효과적으로 다루기 위한 포괄적인 도구 세트를 제공하며, 이를 통해 데이터 정제, 변환 및 분석과 같은 다양한 작업을 수행할 수 있습니다.\n",
    "\n",
    "이 **출력 파서**는 사용자가 임의의 Pandas DataFrame을 지정하여 해당 DataFrame에서 데이터를 추출하고, 이를 형식화된 사전(dictionary) 형태로 조회할 수 있게 해주는 LLM(Large Language Model) 기반 도구입니다.\n"
   ]
  },
  {
   "cell_type": "code",
   "execution_count": 1,
   "id": "de387034",
   "metadata": {},
   "outputs": [
    {
     "data": {
      "text/plain": [
       "True"
      ]
     },
     "execution_count": 1,
     "metadata": {},
     "output_type": "execute_result"
    }
   ],
   "source": [
    "from dotenv import load_dotenv\n",
    "\n",
    "load_dotenv()"
   ]
  },
  {
   "cell_type": "code",
   "execution_count": 2,
   "id": "fe9492a0",
   "metadata": {},
   "outputs": [
    {
     "name": "stdout",
     "output_type": "stream",
     "text": [
      "LangSmith 추적을 시작합니다.\n",
      "[프로젝트명]\n",
      "CH03-OutputParser\n"
     ]
    }
   ],
   "source": [
    "# LangSmith 추적을 설정합니다. https://smith.langchain.com\n",
    "# !pip install langchain-teddynote\n",
    "from langchain_teddynote import logging\n",
    "\n",
    "# 프로젝트 이름을 입력합니다.\n",
    "logging.langsmith(\"CH03-OutputParser\")"
   ]
  },
  {
   "cell_type": "code",
   "execution_count": 3,
   "id": "6c6d4c70",
   "metadata": {},
   "outputs": [],
   "source": [
    "import pprint\n",
    "from typing import Any, Dict\n",
    "\n",
    "import pandas as pd\n",
    "from langchain.output_parsers import PandasDataFrameOutputParser\n",
    "from langchain_core.prompts import PromptTemplate\n",
    "from langchain_openai import ChatOpenAI"
   ]
  },
  {
   "cell_type": "code",
   "execution_count": 4,
   "id": "8a500317",
   "metadata": {},
   "outputs": [],
   "source": [
    "# ChatOpenAI 모델 초기화 (gpt-3.5-turbo 모델 사용을 권장합니다)\n",
    "model = ChatOpenAI(temperature=0, model_name=\"gpt-3.5-turbo\")"
   ]
  },
  {
   "cell_type": "markdown",
   "id": "38a9f23d",
   "metadata": {},
   "source": [
    "`format_parser_output` 함수는 파서 출력을 사전 형식으로 변환하고 출력 형식을 지정하는 데 사용됩니다. "
   ]
  },
  {
   "cell_type": "code",
   "execution_count": 5,
   "id": "d3dadcb4",
   "metadata": {},
   "outputs": [],
   "source": [
    "# 출력 목적으로만 사용됩니다.\n",
    "def format_parser_output(parser_output: Dict[str, Any]) -> None:\n",
    "    # 파서 출력의 키들을 순회합니다.\n",
    "    for key in parser_output.keys():\n",
    "        # 각 키의 값을 딕셔너리로 변환합니다.\n",
    "        parser_output[key] = parser_output[key].to_dict()\n",
    "    # 예쁘게 출력합니다.\n",
    "    return pprint.PrettyPrinter(width=4, compact=True).pprint(parser_output)"
   ]
  },
  {
   "cell_type": "markdown",
   "id": "f2dca1ed",
   "metadata": {},
   "source": [
    "- `titanic.csv` 데이터를 읽어온 뒤 DataFrame 을 로드하여 `df` 변수에 할당합니다.\n",
    "- PandasDataFrameOutputParser를 사용하여 DataFrame을 파싱합니다.\n"
   ]
  },
  {
   "cell_type": "code",
   "execution_count": 6,
   "id": "f4228af1",
   "metadata": {},
   "outputs": [
    {
     "data": {
      "text/html": [
       "<div>\n",
       "<style scoped>\n",
       "    .dataframe tbody tr th:only-of-type {\n",
       "        vertical-align: middle;\n",
       "    }\n",
       "\n",
       "    .dataframe tbody tr th {\n",
       "        vertical-align: top;\n",
       "    }\n",
       "\n",
       "    .dataframe thead th {\n",
       "        text-align: right;\n",
       "    }\n",
       "</style>\n",
       "<table border=\"1\" class=\"dataframe\">\n",
       "  <thead>\n",
       "    <tr style=\"text-align: right;\">\n",
       "      <th></th>\n",
       "      <th>category</th>\n",
       "      <th>name</th>\n",
       "      <th>storageDays</th>\n",
       "      <th>storageDesc</th>\n",
       "      <th>storageMethod</th>\n",
       "    </tr>\n",
       "  </thead>\n",
       "  <tbody>\n",
       "    <tr>\n",
       "      <th>0</th>\n",
       "      <td>기타</td>\n",
       "      <td>두부</td>\n",
       "      <td>7</td>\n",
       "      <td>5~7일</td>\n",
       "      <td>물에 담가 밀폐용기에 넣어 냉장 보관. 매일 물을 갈아주면 더 오래 보관 가능합니다.</td>\n",
       "    </tr>\n",
       "    <tr>\n",
       "      <th>1</th>\n",
       "      <td>야채</td>\n",
       "      <td>콩나물</td>\n",
       "      <td>5</td>\n",
       "      <td>3~5일</td>\n",
       "      <td>씻지 않은 상태로 물기를 제거하고 밀폐용기에 담아 냉장 보관하세요. 빛을 차단하면 ...</td>\n",
       "    </tr>\n",
       "    <tr>\n",
       "      <th>2</th>\n",
       "      <td>야채</td>\n",
       "      <td>숙주나물</td>\n",
       "      <td>4</td>\n",
       "      <td>2~4일</td>\n",
       "      <td>콩나물보다 쉽게 무르므로, 씻지 않고 밀폐용기에 담아 냉장 보관 후 가급적 빨리 소...</td>\n",
       "    </tr>\n",
       "    <tr>\n",
       "      <th>3</th>\n",
       "      <td>야채</td>\n",
       "      <td>고구마</td>\n",
       "      <td>30</td>\n",
       "      <td>2~4주</td>\n",
       "      <td>10~15°C의 서늘하고 어두운 곳에 신문지로 감싸 보관하세요. (냉장 보관 시 맛...</td>\n",
       "    </tr>\n",
       "    <tr>\n",
       "      <th>4</th>\n",
       "      <td>야채</td>\n",
       "      <td>감자</td>\n",
       "      <td>30</td>\n",
       "      <td>2~4주</td>\n",
       "      <td>빛이 없는 서늘하고 통풍이 잘 되는 곳에 보관하세요. 사과와 함께 두면 싹 나는 것...</td>\n",
       "    </tr>\n",
       "  </tbody>\n",
       "</table>\n",
       "</div>"
      ],
      "text/plain": [
       "  category  name  storageDays storageDesc  \\\n",
       "0       기타    두부            7        5~7일   \n",
       "1       야채   콩나물            5        3~5일   \n",
       "2       야채  숙주나물            4        2~4일   \n",
       "3       야채   고구마           30        2~4주   \n",
       "4       야채    감자           30        2~4주   \n",
       "\n",
       "                                       storageMethod  \n",
       "0    물에 담가 밀폐용기에 넣어 냉장 보관. 매일 물을 갈아주면 더 오래 보관 가능합니다.  \n",
       "1  씻지 않은 상태로 물기를 제거하고 밀폐용기에 담아 냉장 보관하세요. 빛을 차단하면 ...  \n",
       "2  콩나물보다 쉽게 무르므로, 씻지 않고 밀폐용기에 담아 냉장 보관 후 가급적 빨리 소...  \n",
       "3  10~15°C의 서늘하고 어두운 곳에 신문지로 감싸 보관하세요. (냉장 보관 시 맛...  \n",
       "4  빛이 없는 서늘하고 통풍이 잘 되는 곳에 보관하세요. 사과와 함께 두면 싹 나는 것...  "
      ]
     },
     "execution_count": 6,
     "metadata": {},
     "output_type": "execute_result"
    }
   ],
   "source": [
    "# 원하는 Pandas DataFrame을 정의합니다.\n",
    "df = pd.read_csv(\"./data/storageinfo.csv\")\n",
    "df.head()"
   ]
  },
  {
   "cell_type": "code",
   "execution_count": 10,
   "id": "eb3a3f28",
   "metadata": {},
   "outputs": [
    {
     "data": {
      "text/html": [
       "<div>\n",
       "<style scoped>\n",
       "    .dataframe tbody tr th:only-of-type {\n",
       "        vertical-align: middle;\n",
       "    }\n",
       "\n",
       "    .dataframe tbody tr th {\n",
       "        vertical-align: top;\n",
       "    }\n",
       "\n",
       "    .dataframe thead th {\n",
       "        text-align: right;\n",
       "    }\n",
       "</style>\n",
       "<table border=\"1\" class=\"dataframe\">\n",
       "  <thead>\n",
       "    <tr style=\"text-align: right;\">\n",
       "      <th></th>\n",
       "      <th>category</th>\n",
       "      <th>name</th>\n",
       "      <th>storageDays</th>\n",
       "      <th>storageDesc</th>\n",
       "      <th>storageMethod</th>\n",
       "    </tr>\n",
       "  </thead>\n",
       "  <tbody>\n",
       "    <tr>\n",
       "      <th>55</th>\n",
       "      <td>과일</td>\n",
       "      <td>레몬</td>\n",
       "      <td>28</td>\n",
       "      <td>3~4주</td>\n",
       "      <td>낱개로 랩이나 비닐 팩에 싸서 냉장 보관하면 수분 증발을 막을 수 있습니다.</td>\n",
       "    </tr>\n",
       "    <tr>\n",
       "      <th>56</th>\n",
       "      <td>과일</td>\n",
       "      <td>망고</td>\n",
       "      <td>5</td>\n",
       "      <td>후숙 후 3~5일</td>\n",
       "      <td>검은 반점이 생길 때까지 실온에서 후숙시킨 후 냉장 보관하세요.</td>\n",
       "    </tr>\n",
       "    <tr>\n",
       "      <th>57</th>\n",
       "      <td>과일</td>\n",
       "      <td>체리</td>\n",
       "      <td>7</td>\n",
       "      <td>5~7일</td>\n",
       "      <td>씻지 않은 상태로 밀폐용기에 담아 냉장 보관하세요.</td>\n",
       "    </tr>\n",
       "    <tr>\n",
       "      <th>58</th>\n",
       "      <td>과일</td>\n",
       "      <td>석류</td>\n",
       "      <td>21</td>\n",
       "      <td>2~3주</td>\n",
       "      <td>통째로 서늘한 실온이나 냉장 보관하세요.</td>\n",
       "    </tr>\n",
       "    <tr>\n",
       "      <th>59</th>\n",
       "      <td>과일</td>\n",
       "      <td>아보카도</td>\n",
       "      <td>5</td>\n",
       "      <td>후숙 후 3~5일</td>\n",
       "      <td>단단하면 실온에서 후숙시키고, 익은 후에는 냉장 보관하세요.</td>\n",
       "    </tr>\n",
       "  </tbody>\n",
       "</table>\n",
       "</div>"
      ],
      "text/plain": [
       "   category  name  storageDays storageDesc  \\\n",
       "55       과일    레몬           28        3~4주   \n",
       "56       과일    망고            5   후숙 후 3~5일   \n",
       "57       과일    체리            7        5~7일   \n",
       "58       과일    석류           21        2~3주   \n",
       "59       과일  아보카도            5   후숙 후 3~5일   \n",
       "\n",
       "                                 storageMethod  \n",
       "55  낱개로 랩이나 비닐 팩에 싸서 냉장 보관하면 수분 증발을 막을 수 있습니다.  \n",
       "56         검은 반점이 생길 때까지 실온에서 후숙시킨 후 냉장 보관하세요.  \n",
       "57                씻지 않은 상태로 밀폐용기에 담아 냉장 보관하세요.  \n",
       "58                      통째로 서늘한 실온이나 냉장 보관하세요.  \n",
       "59           단단하면 실온에서 후숙시키고, 익은 후에는 냉장 보관하세요.  "
      ]
     },
     "execution_count": 10,
     "metadata": {},
     "output_type": "execute_result"
    }
   ],
   "source": [
    "df.tail()"
   ]
  },
  {
   "cell_type": "code",
   "execution_count": 7,
   "id": "51534076",
   "metadata": {},
   "outputs": [
    {
     "data": {
      "text/plain": [
       "<bound method DataFrame.info of    category    name  storageDays        storageDesc  \\\n",
       "0        기타      두부            7               5~7일   \n",
       "1        야채     콩나물            5               3~5일   \n",
       "2        야채    숙주나물            4               2~4일   \n",
       "3        야채     고구마           30               2~4주   \n",
       "4        야채      감자           30               2~4주   \n",
       "5        야채      양파           60              1~2개월   \n",
       "6        야채      마늘           60              1~2개월   \n",
       "7        야채       파           14               1~2주   \n",
       "8        야채      생강           21               2~3주   \n",
       "9        야채      오이            7               5~7일   \n",
       "10       야채      가지            7               5~7일   \n",
       "11       야채      호박            7               5~7일   \n",
       "12       야채     옥수수            3               2~3일   \n",
       "13       야채      상추            7               5~7일   \n",
       "14       야채      깻잎            7               5~7일   \n",
       "15       야채     쌈채소            5               3~5일   \n",
       "16       야채      고추           14               1~2주   \n",
       "17       야채      피망           10              7~10일   \n",
       "18       야채    파프리카           10              7~10일   \n",
       "19       야채     시금치            5               3~5일   \n",
       "20       야채      부추            7               5~7일   \n",
       "21       야채      나물            4               2~4일   \n",
       "22       야채     양배추           21               2~3주   \n",
       "23       야채     양상추           10              7~10일   \n",
       "24       야채    브로콜리            7               5~7일   \n",
       "25       야채      당근           21               2~3주   \n",
       "26       야채      우엉           14               1~2주   \n",
       "27       야채      연근           10              7~10일   \n",
       "28       야채       마           21               2~3주   \n",
       "29       야채      버섯            7               5~7일   \n",
       "30       야채      배추           14               1~2주   \n",
       "31       야채       무           14               1~2주   \n",
       "32       야채  아스파라거스            5               3~5일   \n",
       "33       기타      인삼           14               1~2주   \n",
       "34       야채      더덕           14               1~2주   \n",
       "35       과일      사과           21               1~3주   \n",
       "36       과일       배           10              7~10일   \n",
       "37       과일      감귤           14               1~2주   \n",
       "38       과일     만감류           14               1~2주   \n",
       "39       과일      수박            7  통째로 1주, 자른 후 3~5일   \n",
       "40       과일      멜론            5          후숙 후 3~5일   \n",
       "41       과일      참외            7               5~7일   \n",
       "42       과일     토마토           10              5~10일   \n",
       "43       과일      딸기            4               2~4일   \n",
       "44       과일      키위           28          후숙 후 2~4주   \n",
       "45       과일    블루베리           10              7~10일   \n",
       "46       과일      포도           14               1~2주   \n",
       "47       과일      자두            5          후숙 후 3~5일   \n",
       "48       과일     복숭아            5          후숙 후 3~5일   \n",
       "49       과일       감            7               5~7일   \n",
       "50       기타      곶감          180              3~6개월   \n",
       "51       과일     바나나            7               3~7일   \n",
       "52       과일    파인애플            5          후숙 후 3~5일   \n",
       "53       과일     오렌지           21               2~3주   \n",
       "54       과일      자몽           21               2~3주   \n",
       "55       과일      레몬           28               3~4주   \n",
       "56       과일      망고            5          후숙 후 3~5일   \n",
       "57       과일      체리            7               5~7일   \n",
       "58       과일      석류           21               2~3주   \n",
       "59       과일    아보카도            5          후숙 후 3~5일   \n",
       "\n",
       "                                        storageMethod  \n",
       "0     물에 담가 밀폐용기에 넣어 냉장 보관. 매일 물을 갈아주면 더 오래 보관 가능합니다.  \n",
       "1   씻지 않은 상태로 물기를 제거하고 밀폐용기에 담아 냉장 보관하세요. 빛을 차단하면 ...  \n",
       "2   콩나물보다 쉽게 무르므로, 씻지 않고 밀폐용기에 담아 냉장 보관 후 가급적 빨리 소...  \n",
       "3   10~15°C의 서늘하고 어두운 곳에 신문지로 감싸 보관하세요. (냉장 보관 시 맛...  \n",
       "4   빛이 없는 서늘하고 통풍이 잘 되는 곳에 보관하세요. 사과와 함께 두면 싹 나는 것...  \n",
       "5   껍질째 망에 넣어 건조하고 서늘한 곳에 보관하세요. 깐 양파는 밀폐용기에 담아 냉장...  \n",
       "6   통마늘은 망에 넣어 서늘하고 건조한 곳에 보관하고, 깐 마늘이나 다진 마늘은 냉장 ...  \n",
       "7   뿌리 부분을 젖은 키친타월로 감싸 세워서 냉장 보관하세요. 장기 보관 시 용도에 맞...  \n",
       "8   흙이 묻은 채로 신문지에 싸서 서늘한 곳에 두거나, 껍질을 벗겨 다지거나 편으로 썰...  \n",
       "9   키친타월로 하나씩 감싸 비닐 팩에 넣어 세워서 냉장 보관하세요. 물기 제거가 중요합니다.  \n",
       "10  저온에 약하므로 신문지에 싸서 서늘한 실온에 보관하고, 오래 보관할 경우에만 냉장 ...  \n",
       "11  (애호박 기준) 키친타월이나 신문지로 감싸 냉장 보관하고, 자른 단면은 랩으로 밀봉...  \n",
       "12  껍질째 비닐 팩에 넣어 냉장 보관하세요. 시간이 지날수록 당도가 떨어지므로 빨리 소...  \n",
       "13   씻지 않은 상태로 키친타월에 감싸 비닐 팩에 넣어 세워서 냉장 보관하면 더 신선합니다.  \n",
       "14               물기를 제거하고 키친타월에 감싸 밀폐용기에 넣어 냉장 보관하세요.  \n",
       "15  상추와 유사하게 보관하되, 여러 종류가 섞여 있어 더 빨리 시들 수 있으니 가급적 ...  \n",
       "16            물기 없이 키친타월에 감싸 밀폐용기나 비닐 팩에 넣어 냉장 보관하세요.  \n",
       "17  낱개로 키친타월에 감싸 비닐 팩에 넣어 냉장 보관하세요. 꼭지 부분이 마르지 않게 ...  \n",
       "18  낱개로 키친타월에 감싸 비닐 팩에 넣어 냉장 보관하세요. 꼭지 부분이 마르지 않게 ...  \n",
       "19      흙이 묻은 채로 젖은 신문지에 감싸 뿌리가 아래로 가도록 세워서 냉장 보관하세요.  \n",
       "20  씻지 않고 신문지에 싸서 냉장 보관하세요. 물기가 닿으면 쉽게 무르므로 주의해야 합니다.  \n",
       "21  (일반적인 나물류) 시금치/부추와 유사하게 보관하며, 데쳐서 냉장/냉동하면 더 오래...  \n",
       "22  사용한 만큼 잘라내고 남은 부분은 랩으로 완전히 감싸 냉장 보관하세요. 심지를 제거...  \n",
       "23              겉잎을 떼지 않고 랩으로 감싸거나 비닐 팩에 넣어 냉장 보관하세요.  \n",
       "24  살짝 데쳐서 물기를 제거한 후 밀폐용기에 담아 냉장/냉동 보관하거나, 생으로 보관 ...  \n",
       "25  흙이 묻은 채로 키친타월에 감싸 냉장 보관하고, 씻었다면 물기를 완전히 말린 후 보...  \n",
       "26                 흙이 묻은 채로 신문지에 싸서 서늘한 곳이나 냉장 보관하세요.  \n",
       "27  흙이 묻은 채로 신문지에 싸서 냉장 보관하고, 껍질을 벗겼다면 식초물에 담가 냉장 ...  \n",
       "28  흙이 묻은 채로 신문지에 싸서 서늘하고 어두운 곳에 보관하세요. 자른 단면은 랩으로...  \n",
       "29       습기에 약하므로 키친타월에 감싸거나 종이봉투에 넣어 씻지 않고 냉장 보관하세요.  \n",
       "30      신문지로 전체를 감싸 뿌리가 아래로 가도록 세워서 서늘한 곳이나 냉장 보관하세요.  \n",
       "31          잎(무청)은 영양분을 뺏어가므로 잘라내고, 신문지에 싸서 냉장 보관하세요.  \n",
       "32    밑동을 살짝 잘라낸 후 젖은 키친타월로 감싸 비닐 팩에 넣어 세워서 냉장 보관하세요.  \n",
       "33                  이끼나 젖은 신문지에 싸서 비닐 팩에 넣어 냉장 보관하세요.  \n",
       "34                 흙이 묻은 채로 신문지에 싸서 서늘한 곳이나 냉장 보관하세요.  \n",
       "35      다른 과일/채소와 분리하여 비닐 팩에 넣어 냉장 보관하세요. (에틸렌 가스 방출)  \n",
       "36                         신문지에 감싸 비닐 팩에 넣어 냉장 보관하세요.  \n",
       "37  겹치지 않게 서늘한 실온에 두거나, 옅은 소금물에 헹궈 물기를 말린 후 냉장 보관하세요.  \n",
       "38                       (한라봉, 천혜향 등) 감귤과 동일하게 보관하세요.  \n",
       "39  통 수박은 서늘한 실온에 보관하고, 자른 후에는 단면을 랩으로 밀봉하여 반드시 냉장...  \n",
       "40     꼭지 반대편을 눌러 부드러워질 때까지 실온 후숙 후, 랩으로 싸서 냉장 보관하세요.  \n",
       "41                  키친타월이나 신문지에 싸서 비닐 팩에 넣어 냉장 보관하세요.  \n",
       "42      꼭지를 아래로 향하게 하여 실온 보관하세요. 완숙 후에는 냉장 보관이 가능합니다.  \n",
       "43      꼭지를 떼지 않고 씻지 않은 상태로 겹치지 않게 밀폐용기에 담아 냉장 보관하세요.  \n",
       "44                  단단하면 실온에서 후숙시키고, 익은 후에는 냉장 보관하세요.  \n",
       "45           씻지 않은 상태로 밀폐용기에 담아 냉장 보관하고, 먹기 직전에 씻으세요.  \n",
       "46                 씻지 않은 상태로 종이봉투나 키친타월에 감싸 냉장 보관하세요.  \n",
       "47                  단단하면 실온에서 후숙시키고, 익은 후에는 냉장 보관하세요.  \n",
       "48         단단하면 실온에서 후숙시키고, 익은 후에는 키친타월에 감싸 냉장 보관하세요.  \n",
       "49                 단단감은 실온 보관 가능하며, 홍시(연시)는 냉장 보관하세요.  \n",
       "50                                 밀폐용기에 담아 냉동 보관하세요.  \n",
       "51  실온에 보관하세요. 꼭지 부분을 랩으로 감싸면 숙성을 지연시킬 수 있습니다. (냉장...  \n",
       "52  잎 부분을 아래로 향하게 하여 실온 보관하면 당도가 고루 퍼집니다. 후숙 후 잘라서...  \n",
       "53                                서늘한 실온 또는 냉장 보관하세요.  \n",
       "54                                   오렌지와 동일하게 보관하세요.  \n",
       "55         낱개로 랩이나 비닐 팩에 싸서 냉장 보관하면 수분 증발을 막을 수 있습니다.  \n",
       "56                검은 반점이 생길 때까지 실온에서 후숙시킨 후 냉장 보관하세요.  \n",
       "57                       씻지 않은 상태로 밀폐용기에 담아 냉장 보관하세요.  \n",
       "58                             통째로 서늘한 실온이나 냉장 보관하세요.  \n",
       "59                  단단하면 실온에서 후숙시키고, 익은 후에는 냉장 보관하세요.  >"
      ]
     },
     "execution_count": 7,
     "metadata": {},
     "output_type": "execute_result"
    }
   ],
   "source": [
    "df.info"
   ]
  },
  {
   "cell_type": "code",
   "execution_count": 8,
   "id": "436f7dea",
   "metadata": {},
   "outputs": [
    {
     "name": "stdout",
     "output_type": "stream",
     "text": [
      "The output should be formatted as a string as the operation, followed by a colon, followed by the column or row to be queried on, followed by optional array parameters.\n",
      "1. The column names are limited to the possible columns below.\n",
      "2. Arrays must either be a comma-separated list of numbers formatted as [1,3,5], or it must be in range of numbers formatted as [0..4].\n",
      "3. Remember that arrays are optional and not necessarily required.\n",
      "4. If the column is not in the possible columns or the operation is not a valid Pandas DataFrame operation, return why it is invalid as a sentence starting with either \"Invalid column\" or \"Invalid operation\".\n",
      "\n",
      "As an example, for the formats:\n",
      "1. String \"column:num_legs\" is a well-formatted instance which gets the column num_legs, where num_legs is a possible column.\n",
      "2. String \"row:1\" is a well-formatted instance which gets row 1.\n",
      "3. String \"column:num_legs[1,2]\" is a well-formatted instance which gets the column num_legs for rows 1 and 2, where num_legs is a possible column.\n",
      "4. String \"row:1[num_legs]\" is a well-formatted instance which gets row 1, but for just column num_legs, where num_legs is a possible column.\n",
      "5. String \"mean:num_legs[1..3]\" is a well-formatted instance which takes the mean of num_legs from rows 1 to 3, where num_legs is a possible column and mean is a valid Pandas DataFrame operation.\n",
      "6. String \"do_something:num_legs\" is a badly-formatted instance, where do_something is not a valid Pandas DataFrame operation.\n",
      "7. String \"mean:invalid_col\" is a badly-formatted instance, where invalid_col is not a possible column.\n",
      "\n",
      "Here are the possible columns:\n",
      "```\n",
      "category, name, storageDays, storageDesc, storageMethod\n",
      "```\n",
      "\n"
     ]
    }
   ],
   "source": [
    "# 파서를 설정하고 프롬프트 템플릿에 지시사항을 주입합니다.\n",
    "parser = PandasDataFrameOutputParser(dataframe=df)\n",
    "\n",
    "# 파서의 지시사항을 출력합니다.\n",
    "print(parser.get_format_instructions())"
   ]
  },
  {
   "cell_type": "markdown",
   "id": "bd2699de",
   "metadata": {},
   "source": [
    "컬럼에 대한 값을 조회하는 예제입니다."
   ]
  },
  {
   "cell_type": "code",
   "execution_count": 9,
   "id": "42688b23",
   "metadata": {},
   "outputs": [
    {
     "ename": "OutputParserException",
     "evalue": "Invalid column: Age. The possible columns are category, name, storageDays, storageDesc, storageMethod.. Please check the format instructions.\nFor troubleshooting, visit: https://python.langchain.com/docs/troubleshooting/errors/OUTPUT_PARSING_FAILURE ",
     "output_type": "error",
     "traceback": [
      "\u001b[31m---------------------------------------------------------------------------\u001b[39m",
      "\u001b[31mOutputParserException\u001b[39m                     Traceback (most recent call last)",
      "\u001b[36mCell\u001b[39m\u001b[36m \u001b[39m\u001b[32mIn[9]\u001b[39m\u001b[32m, line 18\u001b[39m\n\u001b[32m     15\u001b[39m chain = prompt | model | parser\n\u001b[32m     17\u001b[39m \u001b[38;5;66;03m# 체인 실행\u001b[39;00m\n\u001b[32m---> \u001b[39m\u001b[32m18\u001b[39m parser_output = \u001b[43mchain\u001b[49m\u001b[43m.\u001b[49m\u001b[43minvoke\u001b[49m\u001b[43m(\u001b[49m\u001b[43m{\u001b[49m\u001b[33;43m\"\u001b[39;49m\u001b[33;43mquestion\u001b[39;49m\u001b[33;43m\"\u001b[39;49m\u001b[43m:\u001b[49m\u001b[43m \u001b[49m\u001b[43mdf_query\u001b[49m\u001b[43m}\u001b[49m\u001b[43m)\u001b[49m\n\u001b[32m     20\u001b[39m \u001b[38;5;66;03m# 출력\u001b[39;00m\n\u001b[32m     21\u001b[39m format_parser_output(parser_output)\n",
      "\u001b[36mFile \u001b[39m\u001b[32mc:\\Users\\SBA\\AppData\\Local\\pypoetry\\Cache\\virtualenvs\\langchain-kr-Us6BDj1P-py3.11\\Lib\\site-packages\\langchain_core\\runnables\\base.py:3049\u001b[39m, in \u001b[36mRunnableSequence.invoke\u001b[39m\u001b[34m(self, input, config, **kwargs)\u001b[39m\n\u001b[32m   3047\u001b[39m                 input_ = context.run(step.invoke, input_, config, **kwargs)\n\u001b[32m   3048\u001b[39m             \u001b[38;5;28;01melse\u001b[39;00m:\n\u001b[32m-> \u001b[39m\u001b[32m3049\u001b[39m                 input_ = \u001b[43mcontext\u001b[49m\u001b[43m.\u001b[49m\u001b[43mrun\u001b[49m\u001b[43m(\u001b[49m\u001b[43mstep\u001b[49m\u001b[43m.\u001b[49m\u001b[43minvoke\u001b[49m\u001b[43m,\u001b[49m\u001b[43m \u001b[49m\u001b[43minput_\u001b[49m\u001b[43m,\u001b[49m\u001b[43m \u001b[49m\u001b[43mconfig\u001b[49m\u001b[43m)\u001b[49m\n\u001b[32m   3050\u001b[39m \u001b[38;5;66;03m# finish the root run\u001b[39;00m\n\u001b[32m   3051\u001b[39m \u001b[38;5;28;01mexcept\u001b[39;00m \u001b[38;5;167;01mBaseException\u001b[39;00m \u001b[38;5;28;01mas\u001b[39;00m e:\n",
      "\u001b[36mFile \u001b[39m\u001b[32mc:\\Users\\SBA\\AppData\\Local\\pypoetry\\Cache\\virtualenvs\\langchain-kr-Us6BDj1P-py3.11\\Lib\\site-packages\\langchain_core\\output_parsers\\base.py:197\u001b[39m, in \u001b[36mBaseOutputParser.invoke\u001b[39m\u001b[34m(self, input, config, **kwargs)\u001b[39m\n\u001b[32m    189\u001b[39m \u001b[38;5;129m@override\u001b[39m\n\u001b[32m    190\u001b[39m \u001b[38;5;28;01mdef\u001b[39;00m\u001b[38;5;250m \u001b[39m\u001b[34minvoke\u001b[39m(\n\u001b[32m    191\u001b[39m     \u001b[38;5;28mself\u001b[39m,\n\u001b[32m   (...)\u001b[39m\u001b[32m    194\u001b[39m     **kwargs: Any,\n\u001b[32m    195\u001b[39m ) -> T:\n\u001b[32m    196\u001b[39m     \u001b[38;5;28;01mif\u001b[39;00m \u001b[38;5;28misinstance\u001b[39m(\u001b[38;5;28minput\u001b[39m, BaseMessage):\n\u001b[32m--> \u001b[39m\u001b[32m197\u001b[39m         \u001b[38;5;28;01mreturn\u001b[39;00m \u001b[38;5;28;43mself\u001b[39;49m\u001b[43m.\u001b[49m\u001b[43m_call_with_config\u001b[49m\u001b[43m(\u001b[49m\n\u001b[32m    198\u001b[39m \u001b[43m            \u001b[49m\u001b[38;5;28;43;01mlambda\u001b[39;49;00m\u001b[43m \u001b[49m\u001b[43minner_input\u001b[49m\u001b[43m:\u001b[49m\u001b[43m \u001b[49m\u001b[38;5;28;43mself\u001b[39;49m\u001b[43m.\u001b[49m\u001b[43mparse_result\u001b[49m\u001b[43m(\u001b[49m\n\u001b[32m    199\u001b[39m \u001b[43m                \u001b[49m\u001b[43m[\u001b[49m\u001b[43mChatGeneration\u001b[49m\u001b[43m(\u001b[49m\u001b[43mmessage\u001b[49m\u001b[43m=\u001b[49m\u001b[43minner_input\u001b[49m\u001b[43m)\u001b[49m\u001b[43m]\u001b[49m\n\u001b[32m    200\u001b[39m \u001b[43m            \u001b[49m\u001b[43m)\u001b[49m\u001b[43m,\u001b[49m\n\u001b[32m    201\u001b[39m \u001b[43m            \u001b[49m\u001b[38;5;28;43minput\u001b[39;49m\u001b[43m,\u001b[49m\n\u001b[32m    202\u001b[39m \u001b[43m            \u001b[49m\u001b[43mconfig\u001b[49m\u001b[43m,\u001b[49m\n\u001b[32m    203\u001b[39m \u001b[43m            \u001b[49m\u001b[43mrun_type\u001b[49m\u001b[43m=\u001b[49m\u001b[33;43m\"\u001b[39;49m\u001b[33;43mparser\u001b[39;49m\u001b[33;43m\"\u001b[39;49m\u001b[43m,\u001b[49m\n\u001b[32m    204\u001b[39m \u001b[43m        \u001b[49m\u001b[43m)\u001b[49m\n\u001b[32m    205\u001b[39m     \u001b[38;5;28;01mreturn\u001b[39;00m \u001b[38;5;28mself\u001b[39m._call_with_config(\n\u001b[32m    206\u001b[39m         \u001b[38;5;28;01mlambda\u001b[39;00m inner_input: \u001b[38;5;28mself\u001b[39m.parse_result([Generation(text=inner_input)]),\n\u001b[32m    207\u001b[39m         \u001b[38;5;28minput\u001b[39m,\n\u001b[32m    208\u001b[39m         config,\n\u001b[32m    209\u001b[39m         run_type=\u001b[33m\"\u001b[39m\u001b[33mparser\u001b[39m\u001b[33m\"\u001b[39m,\n\u001b[32m    210\u001b[39m     )\n",
      "\u001b[36mFile \u001b[39m\u001b[32mc:\\Users\\SBA\\AppData\\Local\\pypoetry\\Cache\\virtualenvs\\langchain-kr-Us6BDj1P-py3.11\\Lib\\site-packages\\langchain_core\\runnables\\base.py:1938\u001b[39m, in \u001b[36mRunnable._call_with_config\u001b[39m\u001b[34m(self, func, input_, config, run_type, serialized, **kwargs)\u001b[39m\n\u001b[32m   1934\u001b[39m     child_config = patch_config(config, callbacks=run_manager.get_child())\n\u001b[32m   1935\u001b[39m     \u001b[38;5;28;01mwith\u001b[39;00m set_config_context(child_config) \u001b[38;5;28;01mas\u001b[39;00m context:\n\u001b[32m   1936\u001b[39m         output = cast(\n\u001b[32m   1937\u001b[39m             \u001b[33m\"\u001b[39m\u001b[33mOutput\u001b[39m\u001b[33m\"\u001b[39m,\n\u001b[32m-> \u001b[39m\u001b[32m1938\u001b[39m             \u001b[43mcontext\u001b[49m\u001b[43m.\u001b[49m\u001b[43mrun\u001b[49m\u001b[43m(\u001b[49m\n\u001b[32m   1939\u001b[39m \u001b[43m                \u001b[49m\u001b[43mcall_func_with_variable_args\u001b[49m\u001b[43m,\u001b[49m\u001b[43m  \u001b[49m\u001b[38;5;66;43;03m# type: ignore[arg-type]\u001b[39;49;00m\n\u001b[32m   1940\u001b[39m \u001b[43m                \u001b[49m\u001b[43mfunc\u001b[49m\u001b[43m,\u001b[49m\n\u001b[32m   1941\u001b[39m \u001b[43m                \u001b[49m\u001b[43minput_\u001b[49m\u001b[43m,\u001b[49m\n\u001b[32m   1942\u001b[39m \u001b[43m                \u001b[49m\u001b[43mconfig\u001b[49m\u001b[43m,\u001b[49m\n\u001b[32m   1943\u001b[39m \u001b[43m                \u001b[49m\u001b[43mrun_manager\u001b[49m\u001b[43m,\u001b[49m\n\u001b[32m   1944\u001b[39m \u001b[43m                \u001b[49m\u001b[43m*\u001b[49m\u001b[43m*\u001b[49m\u001b[43mkwargs\u001b[49m\u001b[43m,\u001b[49m\n\u001b[32m   1945\u001b[39m \u001b[43m            \u001b[49m\u001b[43m)\u001b[49m,\n\u001b[32m   1946\u001b[39m         )\n\u001b[32m   1947\u001b[39m \u001b[38;5;28;01mexcept\u001b[39;00m \u001b[38;5;167;01mBaseException\u001b[39;00m \u001b[38;5;28;01mas\u001b[39;00m e:\n\u001b[32m   1948\u001b[39m     run_manager.on_chain_error(e)\n",
      "\u001b[36mFile \u001b[39m\u001b[32mc:\\Users\\SBA\\AppData\\Local\\pypoetry\\Cache\\virtualenvs\\langchain-kr-Us6BDj1P-py3.11\\Lib\\site-packages\\langchain_core\\runnables\\config.py:429\u001b[39m, in \u001b[36mcall_func_with_variable_args\u001b[39m\u001b[34m(func, input, config, run_manager, **kwargs)\u001b[39m\n\u001b[32m    427\u001b[39m \u001b[38;5;28;01mif\u001b[39;00m run_manager \u001b[38;5;129;01mis\u001b[39;00m \u001b[38;5;129;01mnot\u001b[39;00m \u001b[38;5;28;01mNone\u001b[39;00m \u001b[38;5;129;01mand\u001b[39;00m accepts_run_manager(func):\n\u001b[32m    428\u001b[39m     kwargs[\u001b[33m\"\u001b[39m\u001b[33mrun_manager\u001b[39m\u001b[33m\"\u001b[39m] = run_manager\n\u001b[32m--> \u001b[39m\u001b[32m429\u001b[39m \u001b[38;5;28;01mreturn\u001b[39;00m \u001b[43mfunc\u001b[49m\u001b[43m(\u001b[49m\u001b[38;5;28;43minput\u001b[39;49m\u001b[43m,\u001b[49m\u001b[43m \u001b[49m\u001b[43m*\u001b[49m\u001b[43m*\u001b[49m\u001b[43mkwargs\u001b[49m\u001b[43m)\u001b[49m\n",
      "\u001b[36mFile \u001b[39m\u001b[32mc:\\Users\\SBA\\AppData\\Local\\pypoetry\\Cache\\virtualenvs\\langchain-kr-Us6BDj1P-py3.11\\Lib\\site-packages\\langchain_core\\output_parsers\\base.py:198\u001b[39m, in \u001b[36mBaseOutputParser.invoke.<locals>.<lambda>\u001b[39m\u001b[34m(inner_input)\u001b[39m\n\u001b[32m    189\u001b[39m \u001b[38;5;129m@override\u001b[39m\n\u001b[32m    190\u001b[39m \u001b[38;5;28;01mdef\u001b[39;00m\u001b[38;5;250m \u001b[39m\u001b[34minvoke\u001b[39m(\n\u001b[32m    191\u001b[39m     \u001b[38;5;28mself\u001b[39m,\n\u001b[32m   (...)\u001b[39m\u001b[32m    194\u001b[39m     **kwargs: Any,\n\u001b[32m    195\u001b[39m ) -> T:\n\u001b[32m    196\u001b[39m     \u001b[38;5;28;01mif\u001b[39;00m \u001b[38;5;28misinstance\u001b[39m(\u001b[38;5;28minput\u001b[39m, BaseMessage):\n\u001b[32m    197\u001b[39m         \u001b[38;5;28;01mreturn\u001b[39;00m \u001b[38;5;28mself\u001b[39m._call_with_config(\n\u001b[32m--> \u001b[39m\u001b[32m198\u001b[39m             \u001b[38;5;28;01mlambda\u001b[39;00m inner_input: \u001b[38;5;28;43mself\u001b[39;49m\u001b[43m.\u001b[49m\u001b[43mparse_result\u001b[49m\u001b[43m(\u001b[49m\n\u001b[32m    199\u001b[39m \u001b[43m                \u001b[49m\u001b[43m[\u001b[49m\u001b[43mChatGeneration\u001b[49m\u001b[43m(\u001b[49m\u001b[43mmessage\u001b[49m\u001b[43m=\u001b[49m\u001b[43minner_input\u001b[49m\u001b[43m)\u001b[49m\u001b[43m]\u001b[49m\n\u001b[32m    200\u001b[39m \u001b[43m            \u001b[49m\u001b[43m)\u001b[49m,\n\u001b[32m    201\u001b[39m             \u001b[38;5;28minput\u001b[39m,\n\u001b[32m    202\u001b[39m             config,\n\u001b[32m    203\u001b[39m             run_type=\u001b[33m\"\u001b[39m\u001b[33mparser\u001b[39m\u001b[33m\"\u001b[39m,\n\u001b[32m    204\u001b[39m         )\n\u001b[32m    205\u001b[39m     \u001b[38;5;28;01mreturn\u001b[39;00m \u001b[38;5;28mself\u001b[39m._call_with_config(\n\u001b[32m    206\u001b[39m         \u001b[38;5;28;01mlambda\u001b[39;00m inner_input: \u001b[38;5;28mself\u001b[39m.parse_result([Generation(text=inner_input)]),\n\u001b[32m    207\u001b[39m         \u001b[38;5;28minput\u001b[39m,\n\u001b[32m    208\u001b[39m         config,\n\u001b[32m    209\u001b[39m         run_type=\u001b[33m\"\u001b[39m\u001b[33mparser\u001b[39m\u001b[33m\"\u001b[39m,\n\u001b[32m    210\u001b[39m     )\n",
      "\u001b[36mFile \u001b[39m\u001b[32mc:\\Users\\SBA\\AppData\\Local\\pypoetry\\Cache\\virtualenvs\\langchain-kr-Us6BDj1P-py3.11\\Lib\\site-packages\\langchain_core\\output_parsers\\base.py:251\u001b[39m, in \u001b[36mBaseOutputParser.parse_result\u001b[39m\u001b[34m(self, result, partial)\u001b[39m\n\u001b[32m    235\u001b[39m \u001b[38;5;129m@override\u001b[39m\n\u001b[32m    236\u001b[39m \u001b[38;5;28;01mdef\u001b[39;00m\u001b[38;5;250m \u001b[39m\u001b[34mparse_result\u001b[39m(\u001b[38;5;28mself\u001b[39m, result: \u001b[38;5;28mlist\u001b[39m[Generation], *, partial: \u001b[38;5;28mbool\u001b[39m = \u001b[38;5;28;01mFalse\u001b[39;00m) -> T:\n\u001b[32m    237\u001b[39m \u001b[38;5;250m    \u001b[39m\u001b[33;03m\"\"\"Parse a list of candidate model Generations into a specific format.\u001b[39;00m\n\u001b[32m    238\u001b[39m \n\u001b[32m    239\u001b[39m \u001b[33;03m    The return value is parsed from only the first Generation in the result, which\u001b[39;00m\n\u001b[32m   (...)\u001b[39m\u001b[32m    249\u001b[39m \u001b[33;03m        Structured output.\u001b[39;00m\n\u001b[32m    250\u001b[39m \u001b[33;03m    \"\"\"\u001b[39;00m\n\u001b[32m--> \u001b[39m\u001b[32m251\u001b[39m     \u001b[38;5;28;01mreturn\u001b[39;00m \u001b[38;5;28;43mself\u001b[39;49m\u001b[43m.\u001b[49m\u001b[43mparse\u001b[49m\u001b[43m(\u001b[49m\u001b[43mresult\u001b[49m\u001b[43m[\u001b[49m\u001b[32;43m0\u001b[39;49m\u001b[43m]\u001b[49m\u001b[43m.\u001b[49m\u001b[43mtext\u001b[49m\u001b[43m)\u001b[49m\n",
      "\u001b[36mFile \u001b[39m\u001b[32mc:\\Users\\SBA\\AppData\\Local\\pypoetry\\Cache\\virtualenvs\\langchain-kr-Us6BDj1P-py3.11\\Lib\\site-packages\\langchain\\output_parsers\\pandas_dataframe.py:91\u001b[39m, in \u001b[36mPandasDataFrameOutputParser.parse\u001b[39m\u001b[34m(self, request)\u001b[39m\n\u001b[32m     89\u001b[39m \u001b[38;5;28;01mif\u001b[39;00m request_type \u001b[38;5;129;01min\u001b[39;00m {\u001b[33m\"\u001b[39m\u001b[33mInvalid column\u001b[39m\u001b[33m\"\u001b[39m, \u001b[33m\"\u001b[39m\u001b[33mInvalid operation\u001b[39m\u001b[33m\"\u001b[39m}:\n\u001b[32m     90\u001b[39m     msg = \u001b[33mf\u001b[39m\u001b[33m\"\u001b[39m\u001b[38;5;132;01m{\u001b[39;00mrequest\u001b[38;5;132;01m}\u001b[39;00m\u001b[33m. Please check the format instructions.\u001b[39m\u001b[33m\"\u001b[39m\n\u001b[32m---> \u001b[39m\u001b[32m91\u001b[39m     \u001b[38;5;28;01mraise\u001b[39;00m OutputParserException(msg)\n\u001b[32m     92\u001b[39m array_exists = re.search(\u001b[33mr\u001b[39m\u001b[33m\"\u001b[39m\u001b[33m(\u001b[39m\u001b[33m\\\u001b[39m\u001b[33m[.*?\u001b[39m\u001b[33m\\\u001b[39m\u001b[33m])\u001b[39m\u001b[33m\"\u001b[39m, request_params)\n\u001b[32m     93\u001b[39m \u001b[38;5;28;01mif\u001b[39;00m array_exists:\n",
      "\u001b[31mOutputParserException\u001b[39m: Invalid column: Age. The possible columns are category, name, storageDays, storageDesc, storageMethod.. Please check the format instructions.\nFor troubleshooting, visit: https://python.langchain.com/docs/troubleshooting/errors/OUTPUT_PARSING_FAILURE "
     ]
    }
   ],
   "source": [
    "# 열 작업 예시입니다.\n",
    "df_query = \"Age column 을 조회해 주세요.\"\n",
    "\n",
    "\n",
    "# 프롬프트 템플릿을 설정합니다.\n",
    "prompt = PromptTemplate(\n",
    "    template=\"Answer the user query.\\n{format_instructions}\\n{question}\\n\",\n",
    "    input_variables=[\"question\"],  # 입력 변수 설정\n",
    "    partial_variables={\n",
    "        \"format_instructions\": parser.get_format_instructions()\n",
    "    },  # 부분 변수 설정\n",
    ")\n",
    "\n",
    "# 체인 생성\n",
    "chain = prompt | model | parser\n",
    "\n",
    "# 체인 실행\n",
    "parser_output = chain.invoke({\"question\": df_query})\n",
    "\n",
    "# 출력\n",
    "format_parser_output(parser_output)"
   ]
  },
  {
   "cell_type": "markdown",
   "id": "d4dd6636",
   "metadata": {},
   "source": [
    "첫 번째 행을 검색하는 예시입니다."
   ]
  },
  {
   "cell_type": "code",
   "execution_count": 11,
   "id": "867ced38",
   "metadata": {},
   "outputs": [
    {
     "name": "stdout",
     "output_type": "stream",
     "text": [
      "{'0': {'category': '기타',\n",
      "       'name': '두부',\n",
      "       'storageDays': 7,\n",
      "       'storageDesc': '5~7일',\n",
      "       'storageMethod': '물에 '\n",
      "                        '담가 '\n",
      "                        '밀폐용기에 '\n",
      "                        '넣어 '\n",
      "                        '냉장 '\n",
      "                        '보관. '\n",
      "                        '매일 '\n",
      "                        '물을 '\n",
      "                        '갈아주면 '\n",
      "                        '더 '\n",
      "                        '오래 '\n",
      "                        '보관 '\n",
      "                        '가능합니다.'}}\n"
     ]
    }
   ],
   "source": [
    "# 행 조회 예시입니다.\n",
    "df_query = \"Retrieve the first row.\"\n",
    "\n",
    "# 체인 실행\n",
    "parser_output = chain.invoke({\"question\": df_query})\n",
    "\n",
    "# 결과 출력\n",
    "format_parser_output(parser_output)"
   ]
  },
  {
   "cell_type": "markdown",
   "id": "a936bdcd",
   "metadata": {},
   "source": [
    "특정 열에서 일부 행의 평균을 검색하는 작업 예제입니다."
   ]
  },
  {
   "cell_type": "code",
   "execution_count": null,
   "id": "e479306f",
   "metadata": {},
   "outputs": [],
   "source": [
    "# row 0 ~ 4의 평균 나이를 구합니다.\n",
    "df[\"Age\"].head().mean()"
   ]
  },
  {
   "cell_type": "code",
   "execution_count": null,
   "id": "a26883b4",
   "metadata": {},
   "outputs": [],
   "source": [
    "# 임의의 Pandas DataFrame 작업 예시, 행의 수를 제한합니다.\n",
    "df_query = \"Retrieve the average of the Ages from row 0 to 4.\"\n",
    "\n",
    "# 체인 실행\n",
    "parser_output = chain.invoke({\"question\": df_query})\n",
    "\n",
    "# 결과 출력\n",
    "print(parser_output)"
   ]
  },
  {
   "cell_type": "markdown",
   "id": "62e97f39",
   "metadata": {},
   "source": [
    "다음은 요금(Fare) 에 대한 평균 가격을 산정하는 예시입니다."
   ]
  },
  {
   "cell_type": "code",
   "execution_count": null,
   "id": "743b51ef",
   "metadata": {},
   "outputs": [],
   "source": [
    "df.head()"
   ]
  },
  {
   "cell_type": "code",
   "execution_count": null,
   "id": "68a97d89",
   "metadata": {},
   "outputs": [],
   "source": [
    "# 잘못 형식화된 쿼리의 예시입니다.\n",
    "df_query = \"Calculate average `Fare` rate.\"\n",
    "\n",
    "# 체인 실행\n",
    "parser_output = chain.invoke({\"question\": df_query})\n",
    "\n",
    "# 결과 출력\n",
    "print(parser_output)"
   ]
  },
  {
   "cell_type": "code",
   "execution_count": null,
   "id": "d7dd2f2b",
   "metadata": {},
   "outputs": [],
   "source": [
    "# 결과 검증\n",
    "df[\"Fare\"].mean()"
   ]
  }
 ],
 "metadata": {
  "kernelspec": {
   "display_name": "langchain-kr-Us6BDj1P-py3.11",
   "language": "python",
   "name": "python3"
  },
  "language_info": {
   "codemirror_mode": {
    "name": "ipython",
    "version": 3
   },
   "file_extension": ".py",
   "mimetype": "text/x-python",
   "name": "python",
   "nbconvert_exporter": "python",
   "pygments_lexer": "ipython3",
   "version": "3.11.9"
  }
 },
 "nbformat": 4,
 "nbformat_minor": 5
}
