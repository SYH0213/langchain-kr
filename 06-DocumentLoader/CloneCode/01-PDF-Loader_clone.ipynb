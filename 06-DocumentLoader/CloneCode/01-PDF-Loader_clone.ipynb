{
 "cells": [
  {
   "cell_type": "code",
   "execution_count": 1,
   "id": "3660e690",
   "metadata": {},
   "outputs": [
    {
     "data": {
      "text/plain": [
       "True"
      ]
     },
     "execution_count": 1,
     "metadata": {},
     "output_type": "execute_result"
    }
   ],
   "source": [
    "from dotenv import load_dotenv\n",
    "load_dotenv()"
   ]
  },
  {
   "cell_type": "code",
   "execution_count": 2,
   "id": "71dc7c4c",
   "metadata": {},
   "outputs": [],
   "source": [
    "FILE_PATH = \"../data/2103_page14.pdf\""
   ]
  },
  {
   "cell_type": "code",
   "execution_count": 4,
   "id": "a8b6928b",
   "metadata": {},
   "outputs": [],
   "source": [
    "def show_metadata(docs):\n",
    "    if docs:\n",
    "        print(\"[metadata]\")\n",
    "        print(list(docs[0].metadata.keys()))\n",
    "        print(\"\\n[examples]\")\n",
    "        max_key_length = max(len(k) for k in docs[0].metadata.keys())\n",
    "        for k, v in docs[0].metadata.items():\n",
    "            print(f\"{k:<{max_key_length}} : {v}\")"
   ]
  },
  {
   "cell_type": "code",
   "execution_count": 5,
   "id": "213be2ba",
   "metadata": {},
   "outputs": [
    {
     "name": "stdout",
     "output_type": "stream",
     "text": [
      "14 Z. Shen et al. \n",
      "6 Conclusion \n",
      "LayoutParser provides a com prehensive toolkit for deep learning-based documen t \n",
      "ima ge analysis. The off-the-shelf library is easy to install, and can be used to \n",
      "build flexible and accurate pipelines for processing documen ts with com plicated \n",
      "structures. It also supports high-level custom ization and enables easy labeling and \n",
      "training of DL models on unique documen t ima ge datasets. The LayoutParser \n",
      "commun ity platform facilitates sharing DL models and DIA pipelines, inviting \n",
      "discussion and promo ting code reproducibility and reusability. The LayoutParser \n",
      "team is comm itted to keeping the library updated continuously and bringing \n",
      "the mos t recent advances in DL-based DIA, such as mul ti-modal documen t \n",
      "model ing [37, 36, 9] (an upcom ing priority), to a diverse audience of end-users. \n",
      "Acknowled gemen ts We thank the anonymous reviewers for their commen ts \n",
      "and suggestions. Th is project is supported in part by NSF Gran t OIA-2033558 \n",
      "and funding from the Harvard Da ta Science Initiative and Harvard Ca talyst. \n",
      "Zejiang Shen thanks Dou g Downe y for suggestions. \n",
      "Re ferences \n",
      "[I] Abad i, M., A garwal, A., Barham, P., Brevdo, E., Chen, Z., C itro, C., Corrado, \n",
      "G.S., Dav is, A., Dean, J., Dev in, M., Ghemawa t, S., Good fellow, I., Harp, A., \n",
      "Irving, G., Isard, M., Jia, Y., Jozefow icz, R., Ka iser, L., Kudlur, M., Levenberg, \n",
      "J., Mane, D., Mon ga, R., Moore, S., Murray, D., Olah, C., Schuster, M., Shlens, J., \n",
      "Steiner, B., Sutskever, I., Talwar, K., Tucker, P., Vanhoucke, V., Vasudevan, V., \n",
      "V iegas, F., V inyals, 0., Warden, P., Wa ttenberg, M., W icke, M., Yu, Y., Zhen g, \n",
      "X.: TensorFlow: Large-scale mach ine learning on heterogeneous systems (2015), \n",
      "https : //www . tensorflow . org/, software available from tensorflow.org \n",
      "[2] Alberti, M., Pondenkanda th, V., W iirsch, M., Ingold, R., Liw icki, M.: Deepdiva: a \n",
      "highly-functional python framework for reproducible experimen ts. In: 2018 16th \n",
      "International Con ference on Frontiers in Handwr iting Recognition (ICFHR) . pp. \n",
      "423-428. IEEE (2018) \n",
      "[3] An tonacopoulos, A., Bridson, D., Papadopoulos, C., Pletschacher, S.: A realistic \n",
      "dataset for performance evaluation of documen t layout analysis. In: 2009 10th \n",
      "International Con ference on Documen t Analysis and Reco gnition. pp. 296—300. \n",
      "IEEE (2009) \n",
      "[4] Baek, Y., Lee, B., Han, D., Yun, S., Lee, H.: Character region awareness for text \n",
      "detection. In: Proceedings of the IEEE/CVF Con ference on Com puter V ision and \n",
      "Pattern Recognition. pp. 9365—9374 (2019) \n",
      "[5] Den g, J., Don g, W., Socher, R., Li, L.J., Li, K., Fei-Fei, L.: ImageNet: A Large-Scale \n",
      "Hierarchical Ima ge Da tabase. In: CVPR09 (2009) \n",
      "[6] Den g, Y., Kanervisto, A., Ling, J., Rush, A.M.: Ima ge-to-markup generation w ith \n",
      "coarse-to-fine attention. In: International Con ference on Mach ine Learning. pp. \n",
      "980—989. PMLR (2017) \n",
      "[까 Gan in, Y., Lem pitsky, V.: Unsu pervised doma in adaptation by backpropagation. \n",
      "In: International conference on mach ine learning. pp. 1180—1189. PMLR (2015)\n"
     ]
    }
   ],
   "source": [
    "from langchain_community.document_loaders import PyPDFLoader\n",
    "\n",
    "loader = PyPDFLoader(FILE_PATH)\n",
    "\n",
    "docs = loader.load()\n",
    "print(docs[0].page_content[:])"
   ]
  },
  {
   "cell_type": "code",
   "execution_count": 6,
   "id": "f14ddafa",
   "metadata": {},
   "outputs": [
    {
     "name": "stdout",
     "output_type": "stream",
     "text": [
      "[metadata]\n",
      "['producer', 'creator', 'creationdate', 'author', 'moddate', 'title', 'source', 'total_pages', 'page', 'page_label']\n",
      "\n",
      "[examples]\n",
      "producer     : Adobe Acrobat (64-bit) 25 Paper Capture Plug-in\n",
      "creator      : PyPDF\n",
      "creationdate : 2025-08-22T12:40:57+09:00\n",
      "author       : Heejin Park\n",
      "moddate      : 2025-08-22T12:48:05+09:00\n",
      "title        : C:\\Users\\park0\\Downloads\\2103.15348v2.pdf\n",
      "source       : ../data/2103_page14.pdf\n",
      "total_pages  : 1\n",
      "page         : 0\n",
      "page_label   : 1\n"
     ]
    }
   ],
   "source": [
    "show_metadata(docs)"
   ]
  },
  {
   "cell_type": "code",
   "execution_count": 7,
   "id": "08b8fc11",
   "metadata": {},
   "outputs": [
    {
     "name": "stdout",
     "output_type": "stream",
     "text": [
      "LayoutParser: A Uniﬁed Toolkit for DL-Based DIA 5\n",
      "Table 1: Current layout detection models in the LayoutParser model zoo\n",
      "Dataset Base Model1 Large ModelNotes\n",
      "PubLayNet [38] F / M M Layouts of modern scientiﬁc documents\n",
      "PRImA [3] M - Layouts of scanned modern magazines and scientiﬁc reports\n",
      "Newspaper\n"
     ]
    }
   ],
   "source": [
    "loader = PyPDFLoader(\"https://arxiv.org/pdf/2103.15348.pdf\", extract_images=True)\n",
    "\n",
    "docs = loader.load()\n",
    "print(docs[4].page_content[:300])"
   ]
  },
  {
   "cell_type": "code",
   "execution_count": 8,
   "id": "516d8090",
   "metadata": {},
   "outputs": [
    {
     "name": "stdout",
     "output_type": "stream",
     "text": [
      "[metadata]\n",
      "['producer', 'creator', 'creationdate', 'author', 'keywords', 'moddate', 'ptex.fullbanner', 'subject', 'title', 'trapped', 'source', 'total_pages', 'page', 'page_label']\n",
      "\n",
      "[examples]\n",
      "producer        : pdfTeX-1.40.21\n",
      "creator         : LaTeX with hyperref\n",
      "creationdate    : 2021-06-22T01:27:10+00:00\n",
      "author          : \n",
      "keywords        : \n",
      "moddate         : 2021-06-22T01:27:10+00:00\n",
      "ptex.fullbanner : This is pdfTeX, Version 3.14159265-2.6-1.40.21 (TeX Live 2020) kpathsea version 6.3.2\n",
      "subject         : \n",
      "title           : \n",
      "trapped         : /False\n",
      "source          : https://arxiv.org/pdf/2103.15348.pdf\n",
      "total_pages     : 16\n",
      "page            : 0\n",
      "page_label      : 1\n"
     ]
    }
   ],
   "source": [
    "show_metadata(docs)\n"
   ]
  },
  {
   "cell_type": "markdown",
   "id": "78d2749f",
   "metadata": {},
   "source": [
    "### PDF-Loader의 종류가 많아. 여기까지만..."
   ]
  }
 ],
 "metadata": {
  "kernelspec": {
   "display_name": "langchain-kr-Us6BDj1P-py3.11",
   "language": "python",
   "name": "python3"
  },
  "language_info": {
   "codemirror_mode": {
    "name": "ipython",
    "version": 3
   },
   "file_extension": ".py",
   "mimetype": "text/x-python",
   "name": "python",
   "nbconvert_exporter": "python",
   "pygments_lexer": "ipython3",
   "version": "3.11.9"
  }
 },
 "nbformat": 4,
 "nbformat_minor": 5
}
