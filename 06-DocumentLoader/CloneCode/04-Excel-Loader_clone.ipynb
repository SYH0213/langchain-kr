{
 "cells": [
  {
   "cell_type": "code",
   "execution_count": 1,
   "id": "5784546a",
   "metadata": {},
   "outputs": [
    {
     "name": "stdout",
     "output_type": "stream",
     "text": [
      "1\n"
     ]
    }
   ],
   "source": [
    "from langchain_community.document_loaders import UnstructuredExcelLoader\n",
    "\n",
    "# UnstructuredExcelLoader 생성\n",
    "loader = UnstructuredExcelLoader(\"../data/titanic.xlsx\", mode=\"elements\")\n",
    "\n",
    "# 문서 로드\n",
    "docs = loader.load()\n",
    "\n",
    "# 문서 길이 출력\n",
    "print(len(docs))"
   ]
  },
  {
   "cell_type": "code",
   "execution_count": 2,
   "id": "c93b9511",
   "metadata": {},
   "outputs": [
    {
     "name": "stdout",
     "output_type": "stream",
     "text": [
      "\n",
      "\n",
      "\n",
      "PassengerId\n",
      "Survived\n",
      "Pclass\n",
      "Name\n",
      "Sex\n",
      "Age\n",
      "SibSp\n",
      "Parch\n",
      "Ticket\n",
      "Fare\n",
      "Cabin\n",
      "Embarked\n",
      "\n",
      "\n",
      "1\n",
      "0\n",
      "3\n",
      "Braund, Mr. Owen Harris\n",
      "male\n",
      "22\n",
      "1\n",
      "0\n",
      "A/5 21171\n",
      "7.25\n",
      "\n",
      "S\n",
      "\n",
      "\n",
      "2\n",
      "1\n",
      "1\n",
      "Cumings, Mrs. John Bradley (Florence Briggs Tha\n"
     ]
    }
   ],
   "source": [
    "# 문서 출력\n",
    "print(docs[0].page_content[:200])"
   ]
  },
  {
   "cell_type": "code",
   "execution_count": 3,
   "id": "adf76943",
   "metadata": {},
   "outputs": [
    {
     "name": "stdout",
     "output_type": "stream",
     "text": [
      "<table border=\"1\" class=\"dataframe\">\n",
      "  <tbody>\n",
      "    <tr>\n",
      "      <td>PassengerId</td>\n",
      "      <td>Survived</td>\n",
      "      <td>Pclass</td>\n",
      "      <td>Name</td>\n",
      "      <td>Sex</td>\n",
      "      <td>Age</td>\n",
      "      <td>SibSp</td>\n",
      "      <td>Parch</td>\n",
      "      <td>Ticket</td>\n",
      "      <td>Fare</td>\n",
      "      <td>Cabin</td>\n",
      "      <td>Embarked</td>\n",
      "    </tr>\n",
      "    <tr>\n",
      "      <td>1</td>\n",
      "      <td>0</td>\n",
      "      <td>3</td>\n",
      "      <td>Braund, Mr. Owen Harris</td>\n",
      "      <td>male</td>\n",
      "      <td>22</td>\n",
      "      <td>1</td>\n",
      "      <td>0</td>\n",
      "      <td>A/5 21171</td>\n",
      "      <td>7.25</td>\n",
      "      <td></td>\n",
      "      <td>S</td>\n",
      "    </tr>\n",
      "    <tr>\n",
      "      <td>2</td>\n",
      "      <td>1</td>\n",
      "      <td>1</td>\n",
      "      <td>Cumings, Mrs. John Bradley (Florence Briggs Thayer)</td>\n",
      "      <td>female</td>\n",
      "      <td>38</td>\n",
      "      <td>1</td>\n",
      "      <td>0</td>\n",
      "      <td>PC 17599</td>\n",
      "      <td>71.2833</td>\n",
      "      <td>C85</td>\n",
      "      <td>C</td>\n",
      "    </tr>\n",
      "    <tr>\n",
      "      <td>3</td>\n",
      "      <td>1</td>\n",
      "      <td>3</td>\n",
      "      <td>Heikkinen, Miss. Laina</td>\n",
      "      <td>female</td>\n",
      " \n"
     ]
    }
   ],
   "source": [
    "# metadata 의 text_as_html 출력\n",
    "print(docs[0].metadata[\"text_as_html\"][:1000])"
   ]
  },
  {
   "cell_type": "code",
   "execution_count": 5,
   "id": "94dab4b8",
   "metadata": {},
   "outputs": [],
   "source": [
    "import pandas as pd\n",
    "\n",
    "# Excel 파일 읽기\n",
    "df = pd.read_excel(\"../data/titanic.xlsx\")"
   ]
  },
  {
   "cell_type": "code",
   "execution_count": 6,
   "id": "e85534e9",
   "metadata": {},
   "outputs": [
    {
     "name": "stdout",
     "output_type": "stream",
     "text": [
      "Braund, Mr. Owen Harris\n",
      "{'PassengerId': 1, 'Survived': 0, 'Pclass': 3, 'Sex': 'male', 'Age': 22.0, 'SibSp': 1, 'Parch': 0, 'Ticket': 'A/5 21171', 'Fare': 7.25, 'Cabin': nan, 'Embarked': 'S'}\n"
     ]
    }
   ],
   "source": [
    "from langchain_community.document_loaders import DataFrameLoader\n",
    "\n",
    "# 데이터 프레임 로더 설정, 페이지 내용 컬럼 지정\n",
    "loader = DataFrameLoader(df, page_content_column=\"Name\")\n",
    "\n",
    "# 문서 로드\n",
    "docs = loader.load()\n",
    "\n",
    "# 데이터 출력\n",
    "print(docs[0].page_content)\n",
    "\n",
    "# 메타데이터 출력\n",
    "print(docs[0].metadata)"
   ]
  }
 ],
 "metadata": {
  "kernelspec": {
   "display_name": "langchain-kr-Us6BDj1P-py3.11",
   "language": "python",
   "name": "python3"
  },
  "language_info": {
   "codemirror_mode": {
    "name": "ipython",
    "version": 3
   },
   "file_extension": ".py",
   "mimetype": "text/x-python",
   "name": "python",
   "nbconvert_exporter": "python",
   "pygments_lexer": "ipython3",
   "version": "3.11.9"
  }
 },
 "nbformat": 4,
 "nbformat_minor": 5
}
